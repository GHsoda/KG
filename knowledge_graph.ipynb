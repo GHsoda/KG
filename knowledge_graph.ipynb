{
 "cells": [
  {
   "cell_type": "code",
   "execution_count": null,
   "metadata": {},
   "outputs": [],
   "source": [
    "import rdflib\n",
    "# import copy # to copy graphs\n",
    "\n",
    "g = rdflib.Graph()\n",
    "g.parse(\"https://raw.githubusercontent.com/FHCampbell71/KG/main/Assignment_2/train.nt\",format=\"nt\") #load local rdf file"
   ]
  },
  {
   "cell_type": "code",
   "execution_count": null,
   "metadata": {},
   "outputs": [],
   "source": [
    "# check the missing coauthor relations in this graph.\n",
    "query = \"\"\"SELECT (count(*) as ?cnt) {\n",
    "SELECT DISTINCT ?authorA ?authorB\n",
    "WHERE {\n",
    "?somepaper <http://purl.org/dc/terms/creator> ?authorA .\n",
    "?somepaper <http://purl.org/dc/terms/creator> ?authorB .\n",
    "filter not exists {?authorA <http://lsdis.cs.uga.edu/projects/semdis/opus#coauthor> ?authorB }.\n",
    "}}\n",
    " \"\"\" ## give the SPARQL query\n",
    "\n",
    "qres = g.query(query) ## run SPARQL query over graph q\n",
    "for row in qres: ## for each result\n",
    "    print(f\"{row.cnt} \") ## print cnt from result, and it is 8306. "
   ]
  }
 ],
 "metadata": {
  "kernelspec": {
   "display_name": "base",
   "language": "python",
   "name": "python3"
  },
  "language_info": {
   "name": "python",
   "version": "3.9.7"
  },
  "orig_nbformat": 4
 },
 "nbformat": 4,
 "nbformat_minor": 2
}
